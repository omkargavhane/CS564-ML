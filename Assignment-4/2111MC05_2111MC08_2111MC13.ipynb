{
  "nbformat": 4,
  "nbformat_minor": 0,
  "metadata": {
    "colab": {
      "name": "2111MC13_Suman_Saurabh_A3.ipynb",
      "provenance": []
    },
    "kernelspec": {
      "name": "python3",
      "display_name": "Python 3"
    },
    "language_info": {
      "name": "python"
    }
  },
  "cells": [
    {
      "cell_type": "code",
      "metadata": {
        "id": "2VrqLet9DJzG"
      },
      "source": [
        "# Importing Libraries\n",
        "\n",
        "import numpy as np\n",
        "import pandas as pd\n",
        "from sklearn.feature_extraction.text import TfidfVectorizer\n",
        "from tensorflow import keras\n",
        "from keras.preprocessing.text import text_to_word_sequence\n",
        "from nltk.corpus import stopwords\n",
        "from nltk.stem import PorterStemmer"
      ],
      "execution_count": 1,
      "outputs": []
    },
    {
      "cell_type": "code",
      "metadata": {
        "colab": {
          "resources": {
            "http://localhost:8080/nbextensions/google.colab/files.js": {
              "data": "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",
              "ok": true,
              "headers": [
                [
                  "content-type",
                  "application/javascript"
                ]
              ],
              "status": 200,
              "status_text": ""
            }
          },
          "base_uri": "https://localhost:8080/",
          "height": 73
        },
        "id": "jktJpWB8DZYl",
        "outputId": "cc5fec87-9de8-4399-a049-6bbe20145e42"
      },
      "source": [
        "from google.colab import files\n",
        "uploaded = files.upload()"
      ],
      "execution_count": 3,
      "outputs": [
        {
          "output_type": "display_data",
          "data": {
            "text/html": [
              "\n",
              "     <input type=\"file\" id=\"files-eb27d3af-bd65-49e1-8332-e5487dfc9a95\" name=\"files[]\" multiple disabled\n",
              "        style=\"border:none\" />\n",
              "     <output id=\"result-eb27d3af-bd65-49e1-8332-e5487dfc9a95\">\n",
              "      Upload widget is only available when the cell has been executed in the\n",
              "      current browser session. Please rerun this cell to enable.\n",
              "      </output>\n",
              "      <script src=\"/nbextensions/google.colab/files.js\"></script> "
            ],
            "text/plain": [
              "<IPython.core.display.HTML object>"
            ]
          },
          "metadata": {}
        },
        {
          "output_type": "stream",
          "name": "stdout",
          "text": [
            "Saving bbc.csv to bbc.csv\n"
          ]
        }
      ]
    },
    {
      "cell_type": "code",
      "metadata": {
        "id": "WCdeEdOgDoRR"
      },
      "source": [
        "# Reading dataset into dataframe\n",
        "data = pd.read_csv(\"bbc.csv\")\n",
        "data.head()\n",
        "data.rename(columns={'Unnamed':'index'},inplace=True)\n",
        "data.head()\n",
        "data1 = data.copy()"
      ],
      "execution_count": 4,
      "outputs": []
    },
    {
      "cell_type": "code",
      "metadata": {
        "colab": {
          "base_uri": "https://localhost:8080/"
        },
        "id": "p1DXVwW-DuFP",
        "outputId": "335e0c1d-a3ad-4a9b-ea8f-ad866261e52b"
      },
      "source": [
        "# Creating new Feature Class ID for Dataframe\n",
        "data['Class_id'] = data['Class'].factorize()[0]\n",
        "data.groupby('Class').Class_id.count()"
      ],
      "execution_count": 5,
      "outputs": [
        {
          "output_type": "execute_result",
          "data": {
            "text/plain": [
              "Class\n",
              "business         510\n",
              "entertainment    386\n",
              "politics         417\n",
              "sport            198\n",
              "tech             401\n",
              "Name: Class_id, dtype: int64"
            ]
          },
          "metadata": {},
          "execution_count": 5
        }
      ]
    },
    {
      "cell_type": "code",
      "metadata": {
        "colab": {
          "base_uri": "https://localhost:8080/"
        },
        "id": "EiO5aylKD5So",
        "outputId": "bd1cf2d8-c0aa-451b-d5b7-2ee25ce7587d"
      },
      "source": [
        "# Converting data into vector to make it suitable for input to neuron\n",
        "np.random.seed(1)\n",
        "from sklearn.feature_extraction.text import TfidfVectorizer\n",
        "tfidf = TfidfVectorizer(sublinear_tf=True, min_df=5, norm='l2', encoding='latin-1', ngram_range=(1, 2), stop_words='english')\n",
        "features = tfidf.fit_transform(data.Article).toarray()\n",
        "features\n",
        "label = data.Class_id\n",
        "label"
      ],
      "execution_count": 6,
      "outputs": [
        {
          "output_type": "execute_result",
          "data": {
            "text/plain": [
              "0       0\n",
              "1       0\n",
              "2       0\n",
              "3       0\n",
              "4       0\n",
              "       ..\n",
              "1907    4\n",
              "1908    4\n",
              "1909    4\n",
              "1910    4\n",
              "1911    4\n",
              "Name: Class_id, Length: 1912, dtype: int64"
            ]
          },
          "metadata": {},
          "execution_count": 6
        }
      ]
    },
    {
      "cell_type": "markdown",
      "metadata": {
        "id": "qjYnnRJuPxfj"
      },
      "source": [
        "# First Implementation With 2 Hidden layer and 5 epochs"
      ]
    },
    {
      "cell_type": "code",
      "metadata": {
        "colab": {
          "base_uri": "https://localhost:8080/",
          "height": 53
        },
        "id": "Hxg-aQHiWuTc",
        "outputId": "b221d83f-ef82-4c40-bb95-33ea04d164a4"
      },
      "source": [
        "def tanh(x):\n",
        "    return np.tanh(x)\n",
        "\n",
        "def d_tanh(x):\n",
        "    return 1 - np.square(np.tanh(x))\n",
        "\n",
        "def sigmoid(x):\n",
        "    return 1/(1 + np.exp(-x))\n",
        "\n",
        "def d_sigmoid(x):\n",
        "    return (1 - sigmoid(x)) * sigmoid(x)\n",
        "'''def sigmoid(z):\n",
        "    g = np.frompyfunc(lambda x: 1 / (1 + np.exp(-x)), 1, 1)\n",
        "    return g(z).astype(z.dtype)\n",
        "\n",
        "\n",
        "def sigmoidGradient(z):\n",
        "    return sigmoid(z) * (1 - sigmoid(z))'''"
      ],
      "execution_count": 7,
      "outputs": [
        {
          "output_type": "execute_result",
          "data": {
            "application/vnd.google.colaboratory.intrinsic+json": {
              "type": "string"
            },
            "text/plain": [
              "'def sigmoid(z):\\n    g = np.frompyfunc(lambda x: 1 / (1 + np.exp(-x)), 1, 1)\\n    return g(z).astype(z.dtype)\\n\\n\\ndef sigmoidGradient(z):\\n    return sigmoid(z) * (1 - sigmoid(z))'"
            ]
          },
          "metadata": {},
          "execution_count": 7
        }
      ]
    },
    {
      "cell_type": "code",
      "metadata": {
        "id": "KKunY6MsuVtx"
      },
      "source": [
        "def initializeWeights(L_in, L_out):\n",
        "  epsilon_init = 0.12\n",
        "  W = np.random.rand(L_out, 1 + L_in) * 2 * \\\n",
        "     epsilon_init - epsilon_init\n",
        "  return W"
      ],
      "execution_count": 9,
      "outputs": []
    },
    {
      "cell_type": "code",
      "metadata": {
        "id": "uXg4NtbKuszt"
      },
      "source": [
        "X = features # np.matrix(df.to_numpy())\n",
        "y = label.to_numpy().transpose() # np.matrix(Y.to_numpy()).transpose()\n",
        "m,n = X.shape\n",
        "input_layer_size = 12860                     # Dimension of features\n",
        "hidden_layer_size = 50*2    # of units in hidden layer\n",
        "output_layer_size = 5     # number of labels"
      ],
      "execution_count": 18,
      "outputs": []
    },
    {
      "cell_type": "code",
      "metadata": {
        "colab": {
          "base_uri": "https://localhost:8080/"
        },
        "id": "KB45cTOrWQF0",
        "outputId": "11aff659-9052-4d8c-836d-a7d5ef3c19b6"
      },
      "source": [
        "# Implementing Feed Forward Neural Network\n",
        "\n",
        "W1 = np.random.randn(12860,50)\n",
        "b1 = np.zeros((1,50))\n",
        "\n",
        "W2 = np.random.randn(50,50)\n",
        "b2 = np.zeros((1,50))\n",
        "W3 = np.random.randn(50,5)\n",
        "b3 = np.zeros((1,5))\n",
        "from sklearn.model_selection import train_test_split\n",
        "X_train, X_test, y_train, y_test, indices_train, indices_test = train_test_split(features, label, data.index, test_size=0.20, random_state=0)\n",
        "Z1 = X_train.dot(W1) + b1\n",
        "A1 = tanh(Z1)\n",
        "\n",
        "Z2 = A1.dot(W2) + b2\n",
        "A2 = tanh(Z2)\n",
        "\n",
        "Z3 = A2.dot(W3) + b3\n",
        "A3 = sigmoid(Z3)\n",
        "\n",
        "print(A3)"
      ],
      "execution_count": 8,
      "outputs": [
        {
          "output_type": "stream",
          "name": "stdout",
          "text": [
            "[[2.74601994e-02 9.97634978e-01 4.60793500e-01 3.29728540e-03\n",
            "  1.31484832e-02]\n",
            " [3.21521851e-03 9.99778710e-01 2.26621459e-04 9.95596081e-05\n",
            "  2.87610261e-02]\n",
            " [4.39233413e-04 9.97996806e-01 9.99549561e-01 2.97482632e-02\n",
            "  5.70736023e-03]\n",
            " ...\n",
            " [3.41701356e-01 9.99742244e-01 7.33849728e-06 9.71375437e-01\n",
            "  6.35136762e-01]\n",
            " [9.97496391e-01 9.81949658e-01 1.65828954e-03 9.93875798e-01\n",
            "  9.93732019e-01]\n",
            " [9.98901423e-01 2.29302267e-01 8.26074302e-02 1.06642667e-01\n",
            "  9.99469923e-01]]\n"
          ]
        }
      ]
    },
    {
      "cell_type": "code",
      "metadata": {
        "colab": {
          "base_uri": "https://localhost:8080/"
        },
        "id": "g8abyxOUDVeA",
        "outputId": "9ea1b42f-6335-4e28-b835-836931c8c338"
      },
      "source": [
        "# Implementing general Model of Neural Network\n",
        "id_to_category = {0: 'business', 1: 'tech', 2: 'politics', 3: 'sport', 4: 'entertainment'}\n",
        "from sklearn.neural_network import MLPClassifier\n",
        "from sklearn.metrics import accuracy_score\n",
        "X_train, X_test, y_train, y_test, indices_train, indices_test = train_test_split(features, label, data.index, test_size=0.20, random_state=0)\n",
        "  \n",
        "model1 = MLPClassifier(solver='lbfgs', alpha=1e-5,hidden_layer_sizes=(50, 50), random_state=6,max_iter = 200)\n",
        "model1.fit(X_train,y_train)\n",
        "y_pred = model1.predict(X_test)\n",
        "print(accuracy_score(y_test, y_pred))\n",
        "p=0\n",
        "TP=0\n",
        "FP=0\n",
        "FN=0\n",
        "TN=0\n",
        "for j in range(0,5):\n",
        "  p=0\n",
        "  for i in indices_test:\n",
        "    if(y_test[i]==j):\n",
        "      if(y_test[i] == y_pred[p]):\n",
        "       TP+=1\n",
        "      else:\n",
        "        FN+=1\n",
        "    else:\n",
        "      if(y_test[i] == y_pred[p]):\n",
        "        TN+=1\n",
        "      else:\n",
        "        if(y_pred[p]==j):\n",
        "          FP+=1\n",
        "    p+=1\n",
        "\n",
        "  recall =  TP/(TP+FN)\n",
        "  precision = TP/(TP + FP)\n",
        "  print(\"Precsion And Recall value for \" + str(id_to_category[j]+\" Class\"))\n",
        "  print(\"Precision: \"+str(precision))\n",
        "  print(\"Recall: \" + str(recall))\n",
        "\n",
        "\n",
        "\n"
      ],
      "execution_count": 9,
      "outputs": [
        {
          "output_type": "stream",
          "name": "stdout",
          "text": [
            "0.9686684073107049\n",
            "Precsion And Recall value for business Class\n",
            "Precision: 0.9649122807017544\n",
            "Recall: 0.9734513274336283\n",
            "Precsion And Recall value for tech Class\n",
            "Precision: 0.9685863874345549\n",
            "Recall: 0.9788359788359788\n",
            "Precsion And Recall value for politics Class\n",
            "Precision: 0.9705882352941176\n",
            "Recall: 0.9705882352941176\n",
            "Precsion And Recall value for sport Class\n",
            "Precision: 0.9714285714285714\n",
            "Recall: 0.9683544303797469\n",
            "Precsion And Recall value for entertainment Class\n",
            "Precision: 0.9686684073107049\n",
            "Recall: 0.9686684073107049\n"
          ]
        }
      ]
    },
    {
      "cell_type": "code",
      "metadata": {
        "id": "RJT8n_sZGVzX"
      },
      "source": [
        "# KFold Cross Validation\n",
        "from sklearn.model_selection import KFold\n",
        "kfold = KFold(n_splits=3,shuffle=True,random_state=1)\n",
        "fdata = list(features)\n",
        "ldata = list(label)"
      ],
      "execution_count": 10,
      "outputs": []
    },
    {
      "cell_type": "code",
      "metadata": {
        "id": "jfWXAg_CSajJ"
      },
      "source": [
        "Y_test = np.array(Y_test).reshape(-1,1)"
      ],
      "execution_count": 39,
      "outputs": []
    },
    {
      "cell_type": "markdown",
      "metadata": {
        "id": "t0OH73THUtcP"
      },
      "source": [
        "Class\n",
        "business         510\n",
        "entertainment    386\n",
        "politics         417\n",
        "sport            198\n",
        "tech             401"
      ]
    },
    {
      "cell_type": "markdown",
      "metadata": {
        "id": "BHpPwUWxXTXn"
      },
      "source": [
        "Model With 2 Hidden Layer and Tanh as Hidden Layer Activation and 3 Fold Validation"
      ]
    },
    {
      "cell_type": "code",
      "metadata": {
        "colab": {
          "base_uri": "https://localhost:8080/"
        },
        "id": "dQzEhdYOHUtn",
        "outputId": "05ed66ef-4b7d-4afd-ac11-736426c6904e"
      },
      "source": [
        "i=1\n",
        "Accuracy = 0\n",
        "class_accur_bus=0\n",
        "class_accur_entr=0\n",
        "class_accur_pol=0\n",
        "class_accur_spo=0\n",
        "class_accur_tec = 0\n",
        "from sklearn.neural_network import MLPClassifier\n",
        "for train,test in kfold.split(features):\n",
        "  #print(type(train))\n",
        "  X_train,X_test,Y_train,Y_test = features[train],features[test],label[train],label[test]\n",
        "  #Y_test = np.array(Y_test).reshape(-1,1)\n",
        "  \n",
        "  model2 = MLPClassifier(solver='lbfgs',activation='tanh',alpha=1e-5,hidden_layer_sizes=(50, 50), random_state=6)\n",
        "  model2.fit(X_train,Y_train)\n",
        "  Y_pred = model2.predict(X_test)\n",
        "  Accuracy += (accuracy_score(Y_test, Y_pred))\n",
        "  p=0\n",
        "  for j in range(0,5):\n",
        "    t=0\n",
        "    pr=0\n",
        "    p=0\n",
        "    TP=0\n",
        "    for i in test:\n",
        "      if(Y_test[i]==j):\n",
        "        #print(\"Y_test: \"+str(Y_test[i]))\n",
        "        #print(\"Y_pred: \"+str(Y_pred[p]))\n",
        "        t+=1\n",
        "        if(Y_pred[p]==Y_test[i]):\n",
        "          TP+=1\n",
        "      p+=1\n",
        "    #print(t/TP)\n",
        "    if(j==0):\n",
        "      class_accur_bus += (TP/t)\n",
        "    if(j==1):\n",
        "      class_accur_entr += (TP/t)\n",
        "    if(j==2):\n",
        "      class_accur_pol += (TP/t)\n",
        "    if(j==3):\n",
        "      class_accur_spo += (TP/t)\n",
        "    if(j==4):\n",
        "      class_accur_tec += (TP/t)\n",
        "print('Performance Measure for Model with Tanh as hidden layer and 50 neurons per Hidden Layer and lbfgs optimiser')\n",
        "print(\"Overall Accuracy for this Model after 3 Fold Validation: \"+str(Accuracy/3))\n",
        "class_accur_bus=class_accur_bus/3\n",
        "print(\"Overall Accuracy value for Business Class: \"+str(class_accur_bus))\n",
        "class_accur_entr = class_accur_entr/3\n",
        "print(\"Overall Accuracy value for Entertainment Class: \"+str(class_accur_entr))\n",
        "class_accur_pol = class_accur_pol/3\n",
        "print(\"Overall Accuracy value for Politics Class: \"+str(class_accur_pol))\n",
        "class_accur_spo = class_accur_spo/3\n",
        "print(\"Overall Accuracy value for Sports Class: \"+str(class_accur_spo))\n",
        "class_accur_tec = class_accur_tec/3\n",
        "print(\"Overall Accuracy value for Technical Class: \"+str(class_accur_tec))\n",
        "\n",
        "    \n",
        "\n",
        "\n",
        "\n",
        "\n",
        "\n"
      ],
      "execution_count": 12,
      "outputs": [
        {
          "output_type": "stream",
          "name": "stdout",
          "text": [
            "Performance Measure for Model with Tanh as hidden layer and 50 neurons per Hidden Layer\n",
            "Overall Accuracy for this Model after 3 Fold Validation: 0.9754162094063572\n",
            "Overall Accuracy value for Business Class: 0.9630742442690128\n",
            "Overall Accuracy value for Entertainment Class: 0.978973500424193\n",
            "Overall Accuracy value for Politics Class: 0.9711872089054191\n",
            "Overall Accuracy value for Sports Class: 0.9951690821256038\n",
            "Overall Accuracy value for Technical Class: 0.9828101493660005\n"
          ]
        }
      ]
    },
    {
      "cell_type": "markdown",
      "metadata": {
        "id": "Cb01RrUA9Z5B"
      },
      "source": [
        "Model With Adam Optimizer"
      ]
    },
    {
      "cell_type": "code",
      "metadata": {
        "id": "uXEsNu9ObymU"
      },
      "source": [
        ""
      ],
      "execution_count": null,
      "outputs": []
    },
    {
      "cell_type": "code",
      "metadata": {
        "colab": {
          "base_uri": "https://localhost:8080/"
        },
        "id": "hfgoCywK9qiO",
        "outputId": "ccb35e50-9a60-4d24-9b21-f19b889f524a"
      },
      "source": [
        "i=1\n",
        "Accuracy = 0\n",
        "class_accur_bus=0\n",
        "class_accur_entr=0\n",
        "class_accur_pol=0\n",
        "class_accur_spo=0\n",
        "class_accur_tec = 0\n",
        "from sklearn.neural_network import MLPClassifier\n",
        "for train,test in kfold.split(features):\n",
        "  #print(type(train))\n",
        "  X_train,X_test,Y_train,Y_test = features[train],features[test],label[train],label[test]\n",
        "  #Y_test = np.array(Y_test).reshape(-1,1)\n",
        "  \n",
        "  model3 = MLPClassifier(solver='adam',activation='tanh',alpha=1e-5,hidden_layer_sizes=(50, 50), random_state=6)\n",
        "  model3.fit(X_train,Y_train)\n",
        "  Y_pred = model3.predict(X_test)\n",
        "  Accuracy += (accuracy_score(Y_test, Y_pred))\n",
        "  p=0\n",
        "  for j in range(0,5):\n",
        "    t=0\n",
        "    pr=0\n",
        "    p=0\n",
        "    TP=0\n",
        "    for i in test:\n",
        "      if(Y_test[i]==j):\n",
        "        #print(\"Y_test: \"+str(Y_test[i]))\n",
        "        #print(\"Y_pred: \"+str(Y_pred[p]))\n",
        "        t+=1\n",
        "        if(Y_pred[p]==Y_test[i]):\n",
        "          TP+=1\n",
        "      p+=1\n",
        "    #print(t/TP)\n",
        "    if(j==0):\n",
        "      class_accur_bus += (TP/t)\n",
        "    if(j==1):\n",
        "      class_accur_entr += (TP/t)\n",
        "    if(j==2):\n",
        "      class_accur_pol += (TP/t)\n",
        "    if(j==3):\n",
        "      class_accur_spo += (TP/t)\n",
        "    if(j==4):\n",
        "      class_accur_tec += (TP/t)\n",
        "print('Performance Measure for Model with Tanh as hidden layer and 50 neurons per Hidden Layer and ADAM Optimiser')\n",
        "print(\"Overall Accuracy for this Model after 3 Fold Validation: \"+str(Accuracy/3))\n",
        "class_accur_bus=class_accur_bus/3\n",
        "print(\"Overall Accuracy value for Business Class: \"+str(class_accur_bus))\n",
        "class_accur_entr = class_accur_entr/3\n",
        "print(\"Overall Accuracy value for Entertainment Class: \"+str(class_accur_entr))\n",
        "class_accur_pol = class_accur_pol/3\n",
        "print(\"Overall Accuracy value for Politics Class: \"+str(class_accur_pol))\n",
        "class_accur_spo = class_accur_spo/3\n",
        "print(\"Overall Accuracy value for Sports Class: \"+str(class_accur_spo))\n",
        "class_accur_tec = class_accur_tec/3\n",
        "print(\"Overall Accuracy value for Technical Class: \"+str(class_accur_tec))\n",
        "\n",
        "    \n",
        "\n",
        "\n",
        "\n",
        "\n",
        "\n"
      ],
      "execution_count": 14,
      "outputs": [
        {
          "output_type": "stream",
          "name": "stdout",
          "text": [
            "Performance Measure for Model with Tanh as hidden layer and 50 neurons per Hidden Layer and ADAM Optimiser\n",
            "Overall Accuracy for this Model after 3 Fold Validation: 0.9790751120800382\n",
            "Overall Accuracy value for Business Class: 0.9730661054597664\n",
            "Overall Accuracy value for Entertainment Class: 0.9814040955402158\n",
            "Overall Accuracy value for Politics Class: 0.980887719173896\n",
            "Overall Accuracy value for Sports Class: 0.9951690821256038\n",
            "Overall Accuracy value for Technical Class: 0.9754744922630562\n"
          ]
        }
      ]
    },
    {
      "cell_type": "code",
      "metadata": {
        "colab": {
          "base_uri": "https://localhost:8080/"
        },
        "id": "EyTaVZWHAYP8",
        "outputId": "8b5fcf67-2e67-422f-e503-26db33fde6fe"
      },
      "source": [
        "i=1\n",
        "Accuracy = 0\n",
        "class_accur_bus=0\n",
        "class_accur_entr=0\n",
        "class_accur_pol=0\n",
        "class_accur_spo=0\n",
        "class_accur_tec = 0\n",
        "from sklearn.neural_network import MLPClassifier\n",
        "for train,test in kfold.split(features):\n",
        "  #print(type(train))\n",
        "  X_train,X_test,Y_train,Y_test = features[train],features[test],label[train],label[test]\n",
        "  #Y_test = np.array(Y_test).reshape(-1,1)\n",
        "  \n",
        "  model4 = MLPClassifier(solver='sgd',activation='tanh',alpha=1e-5,hidden_layer_sizes=(50, 50), random_state=6)\n",
        "  model4.fit(X_train,Y_train)\n",
        "  Y_pred = model4.predict(X_test)\n",
        "  Accuracy += (accuracy_score(Y_test, Y_pred))\n",
        "  p=0\n",
        "  for j in range(0,5):\n",
        "    t=0\n",
        "    pr=0\n",
        "    p=0\n",
        "    TP=0\n",
        "    for i in test:\n",
        "      if(Y_test[i]==j):\n",
        "        #print(\"Y_test: \"+str(Y_test[i]))\n",
        "        #print(\"Y_pred: \"+str(Y_pred[p]))\n",
        "        t+=1\n",
        "        if(Y_pred[p]==Y_test[i]):\n",
        "          TP+=1\n",
        "      p+=1\n",
        "    #print(t/TP)\n",
        "    if(j==0):\n",
        "      class_accur_bus += (TP/t)\n",
        "    if(j==1):\n",
        "      class_accur_entr += (TP/t)\n",
        "    if(j==2):\n",
        "      class_accur_pol += (TP/t)\n",
        "    if(j==3):\n",
        "      class_accur_spo += (TP/t)\n",
        "    if(j==4):\n",
        "      class_accur_tec += (TP/t)\n",
        "print('Performance Measure for Model with Tanh as hidden layer and 50 neurons per Hidden Layer and SGD Optimiser')\n",
        "print(\"Overall Accuracy for this Model after 3 Fold Validation: \"+str(Accuracy/3))\n",
        "class_accur_bus=class_accur_bus/3\n",
        "print(\"Overall Accuracy value for Business Class: \"+str(class_accur_bus))\n",
        "class_accur_entr = class_accur_entr/3\n",
        "print(\"Overall Accuracy value for Entertainment Class: \"+str(class_accur_entr))\n",
        "class_accur_pol = class_accur_pol/3\n",
        "print(\"Overall Accuracy value for Politics Class: \"+str(class_accur_pol))\n",
        "class_accur_spo = class_accur_spo/3\n",
        "print(\"Overall Accuracy value for Sports Class: \"+str(class_accur_spo))\n",
        "class_accur_tec = class_accur_tec/3\n",
        "print(\"Overall Accuracy value for Technical Class: \"+str(class_accur_tec))\n",
        "\n",
        "    \n",
        "\n",
        "\n",
        "\n",
        "\n",
        "\n"
      ],
      "execution_count": 15,
      "outputs": [
        {
          "output_type": "stream",
          "name": "stderr",
          "text": [
            "/usr/local/lib/python3.7/dist-packages/sklearn/neural_network/_multilayer_perceptron.py:696: ConvergenceWarning: Stochastic Optimizer: Maximum iterations (200) reached and the optimization hasn't converged yet.\n",
            "  ConvergenceWarning,\n",
            "/usr/local/lib/python3.7/dist-packages/sklearn/neural_network/_multilayer_perceptron.py:696: ConvergenceWarning: Stochastic Optimizer: Maximum iterations (200) reached and the optimization hasn't converged yet.\n",
            "  ConvergenceWarning,\n"
          ]
        },
        {
          "output_type": "stream",
          "name": "stdout",
          "text": [
            "Performance Measure for Model with Tanh as hidden layer and 50 neurons per Hidden Layer and SGD Optimiser\n",
            "Overall Accuracy for this Model after 3 Fold Validation: 0.7615258304913478\n",
            "Overall Accuracy value for Business Class: 0.9920406591344495\n",
            "Overall Accuracy value for Entertainment Class: 0.7567237624256485\n",
            "Overall Accuracy value for Politics Class: 0.7520991762462469\n",
            "Overall Accuracy value for Sports Class: 0.0\n",
            "Overall Accuracy value for Technical Class: 0.8651609176875135\n"
          ]
        },
        {
          "output_type": "stream",
          "name": "stderr",
          "text": [
            "/usr/local/lib/python3.7/dist-packages/sklearn/neural_network/_multilayer_perceptron.py:696: ConvergenceWarning: Stochastic Optimizer: Maximum iterations (200) reached and the optimization hasn't converged yet.\n",
            "  ConvergenceWarning,\n"
          ]
        }
      ]
    },
    {
      "cell_type": "markdown",
      "metadata": {
        "id": "h4v_EHEQCdKS"
      },
      "source": [
        "Model with RELU as Activation Function and ADAM Optimiser"
      ]
    },
    {
      "cell_type": "code",
      "metadata": {
        "colab": {
          "base_uri": "https://localhost:8080/"
        },
        "id": "ir-UaNkXBof4",
        "outputId": "aca4fcba-034e-49a2-f670-626d5c86b96c"
      },
      "source": [
        "i=1\n",
        "Accuracy = 0\n",
        "class_accur_bus=0\n",
        "class_accur_entr=0\n",
        "class_accur_pol=0\n",
        "class_accur_spo=0\n",
        "class_accur_tec = 0\n",
        "from sklearn.neural_network import MLPClassifier\n",
        "for train,test in kfold.split(features):\n",
        "  #print(type(train))\n",
        "  X_train,X_test,Y_train,Y_test = features[train],features[test],label[train],label[test]\n",
        "  #Y_test = np.array(Y_test).reshape(-1,1)\n",
        "  \n",
        "  model5 = MLPClassifier(solver='adam',activation='relu',alpha=1e-5,hidden_layer_sizes=(50, 50), random_state=6)\n",
        "  model5.fit(X_train,Y_train)\n",
        "  Y_pred = model5.predict(X_test)\n",
        "  Accuracy += (accuracy_score(Y_test, Y_pred))\n",
        "  p=0\n",
        "  for j in range(0,5):\n",
        "    t=0\n",
        "    pr=0\n",
        "    p=0\n",
        "    TP=0\n",
        "    for i in test:\n",
        "      if(Y_test[i]==j):\n",
        "        #print(\"Y_test: \"+str(Y_test[i]))\n",
        "        #print(\"Y_pred: \"+str(Y_pred[p]))\n",
        "        t+=1\n",
        "        if(Y_pred[p]==Y_test[i]):\n",
        "          TP+=1\n",
        "      p+=1\n",
        "    #print(t/TP)\n",
        "    if(j==0):\n",
        "      class_accur_bus += (TP/t)\n",
        "    if(j==1):\n",
        "      class_accur_entr += (TP/t)\n",
        "    if(j==2):\n",
        "      class_accur_pol += (TP/t)\n",
        "    if(j==3):\n",
        "      class_accur_spo += (TP/t)\n",
        "    if(j==4):\n",
        "      class_accur_tec += (TP/t)\n",
        "print('Performance Measure for Model with Relu as hidden layer activation Function and 50 neurons per Hidden Layer and ADAM Optimiser')\n",
        "print(\"Overall Accuracy for this Model after 3 Fold Validation: \"+str(Accuracy/3))\n",
        "class_accur_bus=class_accur_bus/3\n",
        "print(\"Overall Accuracy value for Business Class: \"+str(class_accur_bus))\n",
        "class_accur_entr = class_accur_entr/3\n",
        "print(\"Overall Accuracy value for Entertainment Class: \"+str(class_accur_entr))\n",
        "class_accur_pol = class_accur_pol/3\n",
        "print(\"Overall Accuracy value for Politics Class: \"+str(class_accur_pol))\n",
        "class_accur_spo = class_accur_spo/3\n",
        "print(\"Overall Accuracy value for Sports Class: \"+str(class_accur_spo))\n",
        "class_accur_tec = class_accur_tec/3\n",
        "print(\"Overall Accuracy value for Technical Class: \"+str(class_accur_tec))\n",
        "\n",
        "    \n",
        "\n",
        "\n",
        "\n",
        "\n",
        "\n"
      ],
      "execution_count": 17,
      "outputs": [
        {
          "output_type": "stream",
          "name": "stdout",
          "text": [
            "Performance Measure for Model with Relu as hidden layer activation Function and 50 neurons per Hidden Layer and ADAM Optimiser\n",
            "Overall Accuracy for this Model after 3 Fold Validation: 0.9785551066339244\n",
            "Overall Accuracy value for Business Class: 0.9730410126162452\n",
            "Overall Accuracy value for Entertainment Class: 0.9809835121911106\n",
            "Overall Accuracy value for Politics Class: 0.980887719173896\n",
            "Overall Accuracy value for Sports Class: 0.9951690821256038\n",
            "Overall Accuracy value for Technical Class: 0.972551310982162\n"
          ]
        }
      ]
    }
  ]
}